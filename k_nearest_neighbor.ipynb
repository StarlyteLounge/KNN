{
 "cells": [
  {
   "cell_type": "code",
   "execution_count": 17,
   "metadata": {},
   "outputs": [],
   "source": [
    "import matplotlib.pyplot as plt\n",
    "import pandas as pd\n",
    "from sklearn.model_selection import train_test_split\n",
    "from sklearn.preprocessing import LabelEncoder\n",
    "from sklearn.neighbors import KNeighborsClassifier"
   ]
  },
  {
   "cell_type": "code",
   "execution_count": 20,
   "metadata": {},
   "outputs": [],
   "source": [
    "#def read_file():\n",
    "dataset = pd.read_csv('buy_book.csv')\n",
    "\n",
    "# dataset neets to have numeric values for KNN\n",
    "le = LabelEncoder()  # encode strings to ints. Repeated strings will have the same number\n",
    "for column in dataset.columns:\n",
    "    if dataset[column].dtype == pd.StringDtype:  # don't mess with the Age column\n",
    "        # assign an index to each value found in a particular column\n",
    "        dataset[column] = le.fit_transform(dataset[column])\n",
    "\n",
    "x = dataset.iloc[0:23, :-1].values\n",
    "y = dataset.iloc[0:23,4].values\n",
    "#return x,y"
   ]
  },
  {
   "cell_type": "code",
   "execution_count": 21,
   "metadata": {},
   "outputs": [],
   "source": [
    "#def split_data(x,y):\n",
    "train_x, test_x, train_y, test_y = train_test_split(x, y, test_size=0.4, random_state=0)\n",
    "\n",
    "#return train_x, train_y, test_x, test_y"
   ]
  },
  {
   "cell_type": "code",
   "execution_count": 24,
   "metadata": {},
   "outputs": [],
   "source": [
    "#def model_train(train_x, train_y, test_x, test_y):\n",
    "classifier = KNeighborsClassifier(n_neighbors=5,metric='minkowski', p=2)\n",
    "classifier.fit(train_x, train_y)\n",
    "\n",
    "y_pred = classifier.predict(test_x)"
   ]
  },
  {
   "cell_type": "code",
   "execution_count": null,
   "metadata": {},
   "outputs": [],
   "source": [
    "#def visualize_result(train_x, train_y, test_x, test_y, rr):\n",
    "plt.title('')"
   ]
  }
 ],
 "metadata": {
  "kernelspec": {
   "display_name": "ADV2022",
   "language": "python",
   "name": "python3"
  },
  "language_info": {
   "codemirror_mode": {
    "name": "ipython",
    "version": 3
   },
   "file_extension": ".py",
   "mimetype": "text/x-python",
   "name": "python",
   "nbconvert_exporter": "python",
   "pygments_lexer": "ipython3",
   "version": "3.10.10"
  },
  "orig_nbformat": 4
 },
 "nbformat": 4,
 "nbformat_minor": 2
}
